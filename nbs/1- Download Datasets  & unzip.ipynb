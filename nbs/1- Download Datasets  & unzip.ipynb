{
 "cells": [
  {
   "cell_type": "code",
   "execution_count": 1,
   "id": "a83e54bd",
   "metadata": {},
   "outputs": [],
   "source": [
    "import pathlib"
   ]
  },
  {
   "cell_type": "code",
   "execution_count": 10,
   "id": "cc0b4299",
   "metadata": {},
   "outputs": [],
   "source": [
    "BASE_DIR = pathlib.Path().resolve().parent\n",
    "DATASET_DIR = BASE_DIR / \"datasets\"\n",
    "ZIP_DIR = DATASET_DIR / \"zip\"\n",
    "ZIP_DIR.mkdir(exist_ok=True, parents=True)\n",
    "\n",
    "CC_DATA_PATH = ZIP_DIR / \"archive.zip\"\n"
   ]
  },
  {
   "cell_type": "code",
   "execution_count": 14,
   "id": "c948c892",
   "metadata": {},
   "outputs": [
    {
     "name": "stdout",
     "output_type": "stream",
     "text": [
      "Archive:  /media/harendra/DATA/Default_Prediction/datasets/zip/archive.zip\n",
      "  inflating: /media/harendra/DATA/Default_Prediction/datasets/input/UCI_Credit_Card.csv  \n"
     ]
    }
   ],
   "source": [
    "CREDIT_CARD_DIR = DATASET_DIR / \"input\"\n",
    "\n",
    "CREDIT_CARD_DIR.mkdir(exist_ok=True, parents=True)\n",
    "\n",
    "!unzip -o $CC_DATA_PATH -d $CREDIT_CARD_DIR"
   ]
  },
  {
   "cell_type": "code",
   "execution_count": null,
   "id": "bd04d8bd",
   "metadata": {},
   "outputs": [],
   "source": []
  }
 ],
 "metadata": {
  "kernelspec": {
   "display_name": "Python 3 (ipykernel)",
   "language": "python",
   "name": "python3"
  },
  "language_info": {
   "codemirror_mode": {
    "name": "ipython",
    "version": 3
   },
   "file_extension": ".py",
   "mimetype": "text/x-python",
   "name": "python",
   "nbconvert_exporter": "python",
   "pygments_lexer": "ipython3",
   "version": "3.10.6"
  }
 },
 "nbformat": 4,
 "nbformat_minor": 5
}
