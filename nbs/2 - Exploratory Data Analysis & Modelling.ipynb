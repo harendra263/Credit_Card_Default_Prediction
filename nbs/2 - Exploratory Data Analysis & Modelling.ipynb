{
 "cells": [
  {
   "cell_type": "code",
   "execution_count": 1,
   "id": "8d7b1b84",
   "metadata": {},
   "outputs": [],
   "source": [
    "import pandas as pd\n",
    "import numpy as np\n",
    "import matplotlib.pyplot as plt\n",
    "import seaborn as sns\n",
    "\n",
    "%matplotlib inline\n",
    "\n",
    "pd.set_option(\"display.max_columns\", 100)"
   ]
  },
  {
   "cell_type": "markdown",
   "id": "33629e17",
   "metadata": {},
   "source": [
    "## 0. Data Preparation"
   ]
  },
  {
   "cell_type": "code",
   "execution_count": 3,
   "id": "a2c0b83b",
   "metadata": {},
   "outputs": [],
   "source": [
    "## READ DATASET\n",
    "\n",
    "default = pd.read_csv(\"../datasets/input/UCI_Credit_Card.csv\", index_col=\"ID\")\n",
    "default.rename(columns= lambda x: x.lower(), inplace=True)\n",
    "\n",
    "# Base values : female, other_education, not_married\n",
    "default['grad_school'] = (default['education'] == 1).astype('int')\n",
    "default['university'] = (default['education'] == 2).astype('int')\n",
    "default['high_school'] = (default['education'] == 3).astype('int')\n",
    "\n",
    "default['male'] = (default['sex']==1).astype(int)\n",
    "default['married'] = (default['marriage']==1).astype(int)\n",
    "\n",
    "# for pay features if <=0 then  it means it was not delayed\n",
    "\n",
    "pay_features = ['pay_0', 'pay_2', 'pay_3', 'pay_4', 'pay_5', 'pay_6']\n",
    "for p in pay_features:\n",
    "    default.loc[default[p] <=0, p] = 0\n",
    "\n",
    "default.rename(columns = {'default.payment.next.month': \"default\"}, inplace=True)\n",
    "\n",
    "\n",
    "default.drop(['education', 'sex', 'marriage'], axis=1, inplace=True)\n",
    "\n"
   ]
  },
  {
   "cell_type": "markdown",
   "id": "713e5130",
   "metadata": {},
   "source": [
    "## Building models using all features"
   ]
  },
  {
   "cell_type": "code",
   "execution_count": 4,
   "id": "bd7c7b78",
   "metadata": {},
   "outputs": [],
   "source": [
    "from sklearn.model_selection import train_test_split\n",
    "from sklearn.metrics import accuracy_score, precision_score, recall_score, confusion_matrix, precision_recall_curve\n",
    "from sklearn.preprocessing import RobustScaler"
   ]
  },
  {
   "cell_type": "code",
   "execution_count": 6,
   "id": "88eee1be",
   "metadata": {},
   "outputs": [],
   "source": [
    "target_name = 'default'\n",
    "X = default.drop('default', axis=1)\n",
    "robust_scaler = RobustScaler()\n",
    "X = robust_scaler.fit_transform(X)\n",
    "y = default[target_name]\n",
    "X_train, X_test, y_train, y_test = train_test_split(X, y, test_size=0.15, random_state=123, stratify=y)"
   ]
  },
  {
   "cell_type": "code",
   "execution_count": 7,
   "id": "0bbb837c",
   "metadata": {},
   "outputs": [],
   "source": [
    "def CMatrix(CM, labels=['pay', 'default']):\n",
    "    df = pd.DataFrame(data=CM, index=labels, columns=labels)\n",
    "    df.index.name= 'TRUE'\n",
    "    df.columns.name = 'PREDICTION'\n",
    "    df.loc['Total'] = df.sum()\n",
    "    df['Total']= df.sum(axis=1)\n",
    "    return df"
   ]
  },
  {
   "cell_type": "markdown",
   "id": "d4f49572",
   "metadata": {},
   "source": [
    "## Preparing a Dataframe for model Analysis"
   ]
  },
  {
   "cell_type": "code",
   "execution_count": 24,
   "id": "e76fbd7f",
   "metadata": {},
   "outputs": [],
   "source": [
    "# Dataframe for evaluation metrics\n",
    "metrics = pd.DataFrame(index=['accuracy', 'precision', 'recall'], \n",
    "                       columns=['NULL', 'LogisticReg', 'ClassTree', 'NaiveBayes'])"
   ]
  },
  {
   "cell_type": "markdown",
   "id": "7213cbc9",
   "metadata": {},
   "source": [
    "### Which metric should I  use ??\n",
    "#### **. False Positive**: A person who will pay predicted as defaulter \n",
    "#### **. False Negative**: A person who will default predicted as payer"
   ]
  },
  {
   "cell_type": "markdown",
   "id": "d9e7429f",
   "metadata": {},
   "source": [
    "### The NULL model: always predict the most common category"
   ]
  },
  {
   "cell_type": "code",
   "execution_count": 26,
   "id": "a13e03c6",
   "metadata": {},
   "outputs": [
    {
     "name": "stderr",
     "output_type": "stream",
     "text": [
      "/home/harendra/.local/lib/python3.10/site-packages/sklearn/metrics/_classification.py:1334: UndefinedMetricWarning: Precision is ill-defined and being set to 0.0 due to no predicted samples. Use `zero_division` parameter to control this behavior.\n",
      "  _warn_prf(average, modifier, msg_start, len(result))\n"
     ]
    },
    {
     "data": {
      "text/html": [
       "<div>\n",
       "<style scoped>\n",
       "    .dataframe tbody tr th:only-of-type {\n",
       "        vertical-align: middle;\n",
       "    }\n",
       "\n",
       "    .dataframe tbody tr th {\n",
       "        vertical-align: top;\n",
       "    }\n",
       "\n",
       "    .dataframe thead th {\n",
       "        text-align: right;\n",
       "    }\n",
       "</style>\n",
       "<table border=\"1\" class=\"dataframe\">\n",
       "  <thead>\n",
       "    <tr style=\"text-align: right;\">\n",
       "      <th>PREDICTION</th>\n",
       "      <th>pay</th>\n",
       "      <th>default</th>\n",
       "      <th>Total</th>\n",
       "    </tr>\n",
       "    <tr>\n",
       "      <th>TRUE</th>\n",
       "      <th></th>\n",
       "      <th></th>\n",
       "      <th></th>\n",
       "    </tr>\n",
       "  </thead>\n",
       "  <tbody>\n",
       "    <tr>\n",
       "      <th>pay</th>\n",
       "      <td>3505</td>\n",
       "      <td>0</td>\n",
       "      <td>3505</td>\n",
       "    </tr>\n",
       "    <tr>\n",
       "      <th>default</th>\n",
       "      <td>995</td>\n",
       "      <td>0</td>\n",
       "      <td>995</td>\n",
       "    </tr>\n",
       "    <tr>\n",
       "      <th>Total</th>\n",
       "      <td>4500</td>\n",
       "      <td>0</td>\n",
       "      <td>4500</td>\n",
       "    </tr>\n",
       "  </tbody>\n",
       "</table>\n",
       "</div>"
      ],
      "text/plain": [
       "PREDICTION   pay  default  Total\n",
       "TRUE                            \n",
       "pay         3505        0   3505\n",
       "default      995        0    995\n",
       "Total       4500        0   4500"
      ]
     },
     "execution_count": 26,
     "metadata": {},
     "output_type": "execute_result"
    }
   ],
   "source": [
    "y_pred_test = np.repeat(y_train.value_counts().idxmax(), y_test.size)\n",
    "metrics.loc['accuracy', 'NULL'] = accuracy_score(y_pred=y_pred_test, y_true=y_test)\n",
    "metrics.loc['precision', 'NULL'] = precision_score(y_pred=y_pred_test, y_true=y_test)\n",
    "metrics.loc['recall', 'NULL'] = recall_score(y_pred= y_pred_test, y_true= y_test)\n",
    "\n",
    "CM = confusion_matrix(y_pred= y_pred_test, y_true = y_test)\n",
    "CMatrix(CM=CM)"
   ]
  },
  {
   "cell_type": "markdown",
   "id": "ed4d95f8",
   "metadata": {},
   "source": [
    "### A. Logistic Regression"
   ]
  },
  {
   "cell_type": "code",
   "execution_count": 27,
   "id": "1565ede5",
   "metadata": {},
   "outputs": [
    {
     "data": {
      "text/html": [
       "<div>\n",
       "<style scoped>\n",
       "    .dataframe tbody tr th:only-of-type {\n",
       "        vertical-align: middle;\n",
       "    }\n",
       "\n",
       "    .dataframe tbody tr th {\n",
       "        vertical-align: top;\n",
       "    }\n",
       "\n",
       "    .dataframe thead th {\n",
       "        text-align: right;\n",
       "    }\n",
       "</style>\n",
       "<table border=\"1\" class=\"dataframe\">\n",
       "  <thead>\n",
       "    <tr style=\"text-align: right;\">\n",
       "      <th>PREDICTION</th>\n",
       "      <th>pay</th>\n",
       "      <th>default</th>\n",
       "      <th>Total</th>\n",
       "    </tr>\n",
       "    <tr>\n",
       "      <th>TRUE</th>\n",
       "      <th></th>\n",
       "      <th></th>\n",
       "      <th></th>\n",
       "    </tr>\n",
       "  </thead>\n",
       "  <tbody>\n",
       "    <tr>\n",
       "      <th>pay</th>\n",
       "      <td>3365</td>\n",
       "      <td>140</td>\n",
       "      <td>3505</td>\n",
       "    </tr>\n",
       "    <tr>\n",
       "      <th>default</th>\n",
       "      <td>671</td>\n",
       "      <td>324</td>\n",
       "      <td>995</td>\n",
       "    </tr>\n",
       "    <tr>\n",
       "      <th>Total</th>\n",
       "      <td>4036</td>\n",
       "      <td>464</td>\n",
       "      <td>4500</td>\n",
       "    </tr>\n",
       "  </tbody>\n",
       "</table>\n",
       "</div>"
      ],
      "text/plain": [
       "PREDICTION   pay  default  Total\n",
       "TRUE                            \n",
       "pay         3365      140   3505\n",
       "default      671      324    995\n",
       "Total       4036      464   4500"
      ]
     },
     "execution_count": 27,
     "metadata": {},
     "output_type": "execute_result"
    }
   ],
   "source": [
    "# 1. import the estimator object (models)\n",
    "from sklearn.linear_model import LogisticRegression\n",
    "\n",
    "# 2. Create an instance of an estimator\n",
    "logistic_reg = LogisticRegression(n_jobs=-1, random_state=15)\n",
    "\n",
    "# 3. Use the train data to train an estimator\n",
    "logistic_reg.fit(X_train, y_train)\n",
    "\n",
    "# 4. Evaluate the model\n",
    "y_pred_test= logistic_reg.predict(X_test)\n",
    "metrics.loc['accuracy', 'LogisticReg'] = accuracy_score(y_true=y_test, y_pred= y_pred_test)\n",
    "metrics.loc['precision', 'LogisticReg'] = precision_score(y_true=y_test, y_pred= y_pred_test)\n",
    "metrics.loc['recall', 'LogisticReg'] = recall_score(y_true=y_test, y_pred= y_pred_test)\n",
    "\n",
    "# Confusion Matrix\n",
    "CM = confusion_matrix(y_pred= y_pred_test, y_true = y_test)\n",
    "CMatrix(CM=CM)\n",
    "\n",
    "\n"
   ]
  },
  {
   "cell_type": "markdown",
   "id": "eb9a8843",
   "metadata": {},
   "source": [
    "## B. Decision Trees"
   ]
  },
  {
   "cell_type": "code",
   "execution_count": 28,
   "id": "81962d6e",
   "metadata": {},
   "outputs": [
    {
     "data": {
      "text/html": [
       "<div>\n",
       "<style scoped>\n",
       "    .dataframe tbody tr th:only-of-type {\n",
       "        vertical-align: middle;\n",
       "    }\n",
       "\n",
       "    .dataframe tbody tr th {\n",
       "        vertical-align: top;\n",
       "    }\n",
       "\n",
       "    .dataframe thead th {\n",
       "        text-align: right;\n",
       "    }\n",
       "</style>\n",
       "<table border=\"1\" class=\"dataframe\">\n",
       "  <thead>\n",
       "    <tr style=\"text-align: right;\">\n",
       "      <th>PREDICTION</th>\n",
       "      <th>pay</th>\n",
       "      <th>default</th>\n",
       "      <th>Total</th>\n",
       "    </tr>\n",
       "    <tr>\n",
       "      <th>TRUE</th>\n",
       "      <th></th>\n",
       "      <th></th>\n",
       "      <th></th>\n",
       "    </tr>\n",
       "  </thead>\n",
       "  <tbody>\n",
       "    <tr>\n",
       "      <th>pay</th>\n",
       "      <td>3185</td>\n",
       "      <td>320</td>\n",
       "      <td>3505</td>\n",
       "    </tr>\n",
       "    <tr>\n",
       "      <th>default</th>\n",
       "      <td>634</td>\n",
       "      <td>361</td>\n",
       "      <td>995</td>\n",
       "    </tr>\n",
       "    <tr>\n",
       "      <th>Total</th>\n",
       "      <td>3819</td>\n",
       "      <td>681</td>\n",
       "      <td>4500</td>\n",
       "    </tr>\n",
       "  </tbody>\n",
       "</table>\n",
       "</div>"
      ],
      "text/plain": [
       "PREDICTION   pay  default  Total\n",
       "TRUE                            \n",
       "pay         3185      320   3505\n",
       "default      634      361    995\n",
       "Total       3819      681   4500"
      ]
     },
     "execution_count": 28,
     "metadata": {},
     "output_type": "execute_result"
    }
   ],
   "source": [
    "# 1. import the estimator object(models)\n",
    "from sklearn.tree import DecisionTreeClassifier\n",
    "\n",
    "# 2. Create an instance of an estimator\n",
    "class_tree = DecisionTreeClassifier(min_samples_split=30, min_samples_leaf=10, random_state=10)\n",
    "\n",
    "# 3. Use the train data to train an estimator\n",
    "class_tree.fit(X_train, y_train)\n",
    "\n",
    "# 4. Evaluate the model\n",
    "y_pred_test= class_tree.predict(X_test)\n",
    "metrics.loc['accuracy', 'ClassTree'] = accuracy_score(y_true=y_test, y_pred= y_pred_test)\n",
    "metrics.loc['precision', 'ClassTree'] = precision_score(y_true=y_test, y_pred= y_pred_test)\n",
    "metrics.loc['recall', 'ClassTree'] = recall_score(y_true=y_test, y_pred= y_pred_test)\n",
    "\n",
    "# Confusion Matrix\n",
    "CM = confusion_matrix(y_pred= y_pred_test, y_true = y_test)\n",
    "CMatrix(CM=CM)\n"
   ]
  },
  {
   "cell_type": "markdown",
   "id": "2d7a45cc",
   "metadata": {},
   "source": [
    "## C. Naive Bayes Classifier"
   ]
  },
  {
   "cell_type": "code",
   "execution_count": 32,
   "id": "9080394d",
   "metadata": {},
   "outputs": [
    {
     "data": {
      "text/html": [
       "<div>\n",
       "<style scoped>\n",
       "    .dataframe tbody tr th:only-of-type {\n",
       "        vertical-align: middle;\n",
       "    }\n",
       "\n",
       "    .dataframe tbody tr th {\n",
       "        vertical-align: top;\n",
       "    }\n",
       "\n",
       "    .dataframe thead th {\n",
       "        text-align: right;\n",
       "    }\n",
       "</style>\n",
       "<table border=\"1\" class=\"dataframe\">\n",
       "  <thead>\n",
       "    <tr style=\"text-align: right;\">\n",
       "      <th>PREDICTION</th>\n",
       "      <th>pay</th>\n",
       "      <th>default</th>\n",
       "      <th>Total</th>\n",
       "    </tr>\n",
       "    <tr>\n",
       "      <th>TRUE</th>\n",
       "      <th></th>\n",
       "      <th></th>\n",
       "      <th></th>\n",
       "    </tr>\n",
       "  </thead>\n",
       "  <tbody>\n",
       "    <tr>\n",
       "      <th>pay</th>\n",
       "      <td>2912</td>\n",
       "      <td>593</td>\n",
       "      <td>3505</td>\n",
       "    </tr>\n",
       "    <tr>\n",
       "      <th>default</th>\n",
       "      <td>439</td>\n",
       "      <td>556</td>\n",
       "      <td>995</td>\n",
       "    </tr>\n",
       "    <tr>\n",
       "      <th>Total</th>\n",
       "      <td>3351</td>\n",
       "      <td>1149</td>\n",
       "      <td>4500</td>\n",
       "    </tr>\n",
       "  </tbody>\n",
       "</table>\n",
       "</div>"
      ],
      "text/plain": [
       "PREDICTION   pay  default  Total\n",
       "TRUE                            \n",
       "pay         2912      593   3505\n",
       "default      439      556    995\n",
       "Total       3351     1149   4500"
      ]
     },
     "execution_count": 32,
     "metadata": {},
     "output_type": "execute_result"
    }
   ],
   "source": [
    "# 1. import the estimator object(models)\n",
    "from sklearn.naive_bayes import GaussianNB\n",
    "\n",
    "# 2. Create an instance of an estimator\n",
    "NBC = GaussianNB()\n",
    "\n",
    "# 3. Use the train data to train an estimator\n",
    "NBC.fit(X_train, y_train)\n",
    "\n",
    "# 4. Evaluate the model\n",
    "y_pred_test= NBC.predict(X_test)\n",
    "metrics.loc['accuracy', 'NaiveBayes'] = accuracy_score(y_true=y_test, y_pred= y_pred_test)\n",
    "metrics.loc['precision', 'NaiveBayes'] = precision_score(y_true=y_test, y_pred= y_pred_test)\n",
    "metrics.loc['recall', 'NaiveBayes'] = recall_score(y_true=y_test, y_pred= y_pred_test)\n",
    "\n",
    "# Confusion Matrix\n",
    "CM = confusion_matrix(y_pred= y_pred_test, y_true = y_test)\n",
    "CMatrix(CM=CM)"
   ]
  },
  {
   "cell_type": "code",
   "execution_count": 33,
   "id": "30fc2773",
   "metadata": {},
   "outputs": [
    {
     "data": {
      "text/html": [
       "<div>\n",
       "<style scoped>\n",
       "    .dataframe tbody tr th:only-of-type {\n",
       "        vertical-align: middle;\n",
       "    }\n",
       "\n",
       "    .dataframe tbody tr th {\n",
       "        vertical-align: top;\n",
       "    }\n",
       "\n",
       "    .dataframe thead th {\n",
       "        text-align: right;\n",
       "    }\n",
       "</style>\n",
       "<table border=\"1\" class=\"dataframe\">\n",
       "  <thead>\n",
       "    <tr style=\"text-align: right;\">\n",
       "      <th></th>\n",
       "      <th>NULL</th>\n",
       "      <th>LogisticReg</th>\n",
       "      <th>ClassTree</th>\n",
       "      <th>NaiveBayes</th>\n",
       "    </tr>\n",
       "  </thead>\n",
       "  <tbody>\n",
       "    <tr>\n",
       "      <th>accuracy</th>\n",
       "      <td>77.888889</td>\n",
       "      <td>81.977778</td>\n",
       "      <td>78.8</td>\n",
       "      <td>77.066667</td>\n",
       "    </tr>\n",
       "    <tr>\n",
       "      <th>precision</th>\n",
       "      <td>0.0</td>\n",
       "      <td>69.827586</td>\n",
       "      <td>53.010279</td>\n",
       "      <td>48.389904</td>\n",
       "    </tr>\n",
       "    <tr>\n",
       "      <th>recall</th>\n",
       "      <td>0.0</td>\n",
       "      <td>32.562814</td>\n",
       "      <td>36.281407</td>\n",
       "      <td>55.879397</td>\n",
       "    </tr>\n",
       "  </tbody>\n",
       "</table>\n",
       "</div>"
      ],
      "text/plain": [
       "                NULL LogisticReg  ClassTree NaiveBayes\n",
       "accuracy   77.888889   81.977778       78.8  77.066667\n",
       "precision        0.0   69.827586  53.010279  48.389904\n",
       "recall           0.0   32.562814  36.281407  55.879397"
      ]
     },
     "execution_count": 33,
     "metadata": {},
     "output_type": "execute_result"
    }
   ],
   "source": [
    "100*metrics"
   ]
  },
  {
   "cell_type": "code",
   "execution_count": 31,
   "id": "a1b7e750",
   "metadata": {},
   "outputs": [
    {
     "data": {
      "image/png": "[encoded data removed]",
      "text/plain": [
       "<Figure size 576x360 with 1 Axes>"
      ]
     },
     "metadata": {
      "needs_background": "light"
     },
     "output_type": "display_data"
    }
   ],
   "source": [
    "fig, ax = plt.subplots(figsize=(8, 5))\n",
    "metrics.plot(kind='barh', ax=ax)\n",
    "ax.grid();"
   ]
  },
  {
   "cell_type": "code",
   "execution_count": 34,
   "id": "f25cf096",
   "metadata": {},
   "outputs": [],
   "source": [
    "precision_nb, recall_nb, thresholds_nb = precision_recall_curve(y_true= y_test, \n",
    "                                                               probas_pred=NBC.predict_proba(X_test)[:, 1])\n",
    "precision_lr, recall_lr, thresholds_lr = precision_recall_curve(y_true= y_test,\n",
    "                                                               probas_pred=logistic_reg.predict_proba(X_test)[:, 1])"
   ]
  },
  {
   "cell_type": "code",
   "execution_count": 35,
   "id": "273c5021",
   "metadata": {},
   "outputs": [
    {
     "data": {
      "image/png": "[encoded data removed]",
      "text/plain": [
       "<Figure size 576x360 with 1 Axes>"
      ]
     },
     "metadata": {
      "needs_background": "light"
     },
     "output_type": "display_data"
    }
   ],
   "source": [
    "fig, ax = plt.subplots(figsize=(8, 5))\n",
    "ax.plot(precision_nb, recall_nb, label='NaiveBayes')\n",
    "ax.plot(precision_lr, recall_lr, label='LogisticReg')\n",
    "ax.set_xlabel('Precision')\n",
    "ax.set_ylabel('Recall')\n",
    "ax.set_title('Precision-Recall Curve')\n",
    "ax.legend()\n",
    "ax.grid();"
   ]
  },
  {
   "cell_type": "code",
   "execution_count": 36,
   "id": "0f4a345c",
   "metadata": {},
   "outputs": [
    {
     "data": {
      "image/png": "[encoded data removed]",
      "text/plain": [
       "<Figure size 576x360 with 1 Axes>"
      ]
     },
     "metadata": {
      "needs_background": "light"
     },
     "output_type": "display_data"
    }
   ],
   "source": [
    "### Confusion Matrix with Modifier Logistic Regression Classifier\n",
    "\n",
    "fig, ax= plt.subplots(figsize=(8, 5))\n",
    "ax.plot(thresholds_lr, precision_lr[1:], label='Precision')\n",
    "ax.plot(thresholds_lr, recall_lr[1:], label='Recall')\n",
    "ax.set_xlabel('Classification Threshold')\n",
    "ax.set_ylabel('Precision, Recall')\n",
    "ax.set_title('Logistic Regression Classifier: Precision-Recall')\n",
    "ax.hlines(y=0.6, xmin=0, xmax=1, color='red')\n",
    "ax.legend()\n",
    "ax.grid();"
   ]
  },
  {
   "cell_type": "code",
   "execution_count": 38,
   "id": "bb0a3447",
   "metadata": {},
   "outputs": [
    {
     "name": "stdout",
     "output_type": "stream",
     "text": [
      "Recall:  59.497487437185924\n",
      "Precision:  47.85772029102668\n"
     ]
    },
    {
     "data": {
      "text/html": [
       "<div>\n",
       "<style scoped>\n",
       "    .dataframe tbody tr th:only-of-type {\n",
       "        vertical-align: middle;\n",
       "    }\n",
       "\n",
       "    .dataframe tbody tr th {\n",
       "        vertical-align: top;\n",
       "    }\n",
       "\n",
       "    .dataframe thead th {\n",
       "        text-align: right;\n",
       "    }\n",
       "</style>\n",
       "<table border=\"1\" class=\"dataframe\">\n",
       "  <thead>\n",
       "    <tr style=\"text-align: right;\">\n",
       "      <th>PREDICTION</th>\n",
       "      <th>pay</th>\n",
       "      <th>default</th>\n",
       "      <th>Total</th>\n",
       "    </tr>\n",
       "    <tr>\n",
       "      <th>TRUE</th>\n",
       "      <th></th>\n",
       "      <th></th>\n",
       "      <th></th>\n",
       "    </tr>\n",
       "  </thead>\n",
       "  <tbody>\n",
       "    <tr>\n",
       "      <th>pay</th>\n",
       "      <td>2860</td>\n",
       "      <td>645</td>\n",
       "      <td>3505</td>\n",
       "    </tr>\n",
       "    <tr>\n",
       "      <th>default</th>\n",
       "      <td>403</td>\n",
       "      <td>592</td>\n",
       "      <td>995</td>\n",
       "    </tr>\n",
       "    <tr>\n",
       "      <th>Total</th>\n",
       "      <td>3263</td>\n",
       "      <td>1237</td>\n",
       "      <td>4500</td>\n",
       "    </tr>\n",
       "  </tbody>\n",
       "</table>\n",
       "</div>"
      ],
      "text/plain": [
       "PREDICTION   pay  default  Total\n",
       "TRUE                            \n",
       "pay         2860      645   3505\n",
       "default      403      592    995\n",
       "Total       3263     1237   4500"
      ]
     },
     "execution_count": 38,
     "metadata": {},
     "output_type": "execute_result"
    }
   ],
   "source": [
    "y_test_proba = logistic_reg.predict_proba(X_test)[:, 1]\n",
    "y_pred_test = (y_test_proba >= 0.2).astype('int')\n",
    "\n",
    "# Confusion Matrix\n",
    "CM = confusion_matrix(y_pred=y_pred_test, y_true= y_test)\n",
    "print(\"Recall: \", 100*recall_score(y_pred = y_pred_test, y_true=y_test))\n",
    "print(\"Precision: \", 100*precision_score(y_pred=y_pred_test, y_true=y_test))\n",
    "CMatrix(CM)"
   ]
  },
  {
   "cell_type": "markdown",
   "id": "2bb8e5ba",
   "metadata": {},
   "source": [
    "## Making individual Predictions"
   ]
  },
  {
   "cell_type": "code",
   "execution_count": 42,
   "id": "7d319896",
   "metadata": {},
   "outputs": [],
   "source": [
    "def make_ind_predictions(new_data):\n",
    "    data = new_data.values.reshape(-1, -1)\n",
    "    data = robust_scaler.fit_transform(data)\n",
    "    prob = logistic_reg.predict_proba(data)[0][1]\n",
    "    if prob >=0.2:\n",
    "        return 'Will default'\n",
    "    else:\n",
    "        return \"Will pay\""
   ]
  },
  {
   "cell_type": "code",
   "execution_count": 43,
   "id": "0cd7b5bf",
   "metadata": {},
   "outputs": [
    {
     "data": {
      "text/html": [
       "<div>\n",
       "<style scoped>\n",
       "    .dataframe tbody tr th:only-of-type {\n",
       "        vertical-align: middle;\n",
       "    }\n",
       "\n",
       "    .dataframe tbody tr th {\n",
       "        vertical-align: top;\n",
       "    }\n",
       "\n",
       "    .dataframe thead th {\n",
       "        text-align: right;\n",
       "    }\n",
       "</style>\n",
       "<table border=\"1\" class=\"dataframe\">\n",
       "  <thead>\n",
       "    <tr style=\"text-align: right;\">\n",
       "      <th></th>\n",
       "      <th>limit_bal</th>\n",
       "      <th>age</th>\n",
       "      <th>pay_0</th>\n",
       "      <th>pay_2</th>\n",
       "      <th>pay_3</th>\n",
       "      <th>pay_4</th>\n",
       "      <th>pay_5</th>\n",
       "      <th>pay_6</th>\n",
       "      <th>bill_amt1</th>\n",
       "      <th>bill_amt2</th>\n",
       "      <th>bill_amt3</th>\n",
       "      <th>bill_amt4</th>\n",
       "      <th>bill_amt5</th>\n",
       "      <th>bill_amt6</th>\n",
       "      <th>pay_amt1</th>\n",
       "      <th>pay_amt2</th>\n",
       "      <th>pay_amt3</th>\n",
       "      <th>pay_amt4</th>\n",
       "      <th>pay_amt5</th>\n",
       "      <th>pay_amt6</th>\n",
       "      <th>default</th>\n",
       "      <th>grad_school</th>\n",
       "      <th>university</th>\n",
       "      <th>high_school</th>\n",
       "      <th>male</th>\n",
       "      <th>married</th>\n",
       "    </tr>\n",
       "    <tr>\n",
       "      <th>ID</th>\n",
       "      <th></th>\n",
       "      <th></th>\n",
       "      <th></th>\n",
       "      <th></th>\n",
       "      <th></th>\n",
       "      <th></th>\n",
       "      <th></th>\n",
       "      <th></th>\n",
       "      <th></th>\n",
       "      <th></th>\n",
       "      <th></th>\n",
       "      <th></th>\n",
       "      <th></th>\n",
       "      <th></th>\n",
       "      <th></th>\n",
       "      <th></th>\n",
       "      <th></th>\n",
       "      <th></th>\n",
       "      <th></th>\n",
       "      <th></th>\n",
       "      <th></th>\n",
       "      <th></th>\n",
       "      <th></th>\n",
       "      <th></th>\n",
       "      <th></th>\n",
       "      <th></th>\n",
       "    </tr>\n",
       "  </thead>\n",
       "  <tbody>\n",
       "    <tr>\n",
       "      <th>3</th>\n",
       "      <td>90000.0</td>\n",
       "      <td>34</td>\n",
       "      <td>0</td>\n",
       "      <td>0</td>\n",
       "      <td>0</td>\n",
       "      <td>0</td>\n",
       "      <td>0</td>\n",
       "      <td>0</td>\n",
       "      <td>29239.0</td>\n",
       "      <td>14027.0</td>\n",
       "      <td>13559.0</td>\n",
       "      <td>14331.0</td>\n",
       "      <td>14948.0</td>\n",
       "      <td>15549.0</td>\n",
       "      <td>1518.0</td>\n",
       "      <td>1500.0</td>\n",
       "      <td>1000.0</td>\n",
       "      <td>1000.0</td>\n",
       "      <td>1000.0</td>\n",
       "      <td>5000.0</td>\n",
       "      <td>0</td>\n",
       "      <td>0</td>\n",
       "      <td>1</td>\n",
       "      <td>0</td>\n",
       "      <td>0</td>\n",
       "      <td>0</td>\n",
       "    </tr>\n",
       "    <tr>\n",
       "      <th>4</th>\n",
       "      <td>50000.0</td>\n",
       "      <td>37</td>\n",
       "      <td>0</td>\n",
       "      <td>0</td>\n",
       "      <td>0</td>\n",
       "      <td>0</td>\n",
       "      <td>0</td>\n",
       "      <td>0</td>\n",
       "      <td>46990.0</td>\n",
       "      <td>48233.0</td>\n",
       "      <td>49291.0</td>\n",
       "      <td>28314.0</td>\n",
       "      <td>28959.0</td>\n",
       "      <td>29547.0</td>\n",
       "      <td>2000.0</td>\n",
       "      <td>2019.0</td>\n",
       "      <td>1200.0</td>\n",
       "      <td>1100.0</td>\n",
       "      <td>1069.0</td>\n",
       "      <td>1000.0</td>\n",
       "      <td>0</td>\n",
       "      <td>0</td>\n",
       "      <td>1</td>\n",
       "      <td>0</td>\n",
       "      <td>0</td>\n",
       "      <td>1</td>\n",
       "    </tr>\n",
       "    <tr>\n",
       "      <th>5</th>\n",
       "      <td>50000.0</td>\n",
       "      <td>57</td>\n",
       "      <td>0</td>\n",
       "      <td>0</td>\n",
       "      <td>0</td>\n",
       "      <td>0</td>\n",
       "      <td>0</td>\n",
       "      <td>0</td>\n",
       "      <td>8617.0</td>\n",
       "      <td>5670.0</td>\n",
       "      <td>35835.0</td>\n",
       "      <td>20940.0</td>\n",
       "      <td>19146.0</td>\n",
       "      <td>19131.0</td>\n",
       "      <td>2000.0</td>\n",
       "      <td>36681.0</td>\n",
       "      <td>10000.0</td>\n",
       "      <td>9000.0</td>\n",
       "      <td>689.0</td>\n",
       "      <td>679.0</td>\n",
       "      <td>0</td>\n",
       "      <td>0</td>\n",
       "      <td>1</td>\n",
       "      <td>0</td>\n",
       "      <td>1</td>\n",
       "      <td>1</td>\n",
       "    </tr>\n",
       "    <tr>\n",
       "      <th>6</th>\n",
       "      <td>50000.0</td>\n",
       "      <td>37</td>\n",
       "      <td>0</td>\n",
       "      <td>0</td>\n",
       "      <td>0</td>\n",
       "      <td>0</td>\n",
       "      <td>0</td>\n",
       "      <td>0</td>\n",
       "      <td>64400.0</td>\n",
       "      <td>57069.0</td>\n",
       "      <td>57608.0</td>\n",
       "      <td>19394.0</td>\n",
       "      <td>19619.0</td>\n",
       "      <td>20024.0</td>\n",
       "      <td>2500.0</td>\n",
       "      <td>1815.0</td>\n",
       "      <td>657.0</td>\n",
       "      <td>1000.0</td>\n",
       "      <td>1000.0</td>\n",
       "      <td>800.0</td>\n",
       "      <td>0</td>\n",
       "      <td>1</td>\n",
       "      <td>0</td>\n",
       "      <td>0</td>\n",
       "      <td>1</td>\n",
       "      <td>0</td>\n",
       "    </tr>\n",
       "    <tr>\n",
       "      <th>7</th>\n",
       "      <td>500000.0</td>\n",
       "      <td>29</td>\n",
       "      <td>0</td>\n",
       "      <td>0</td>\n",
       "      <td>0</td>\n",
       "      <td>0</td>\n",
       "      <td>0</td>\n",
       "      <td>0</td>\n",
       "      <td>367965.0</td>\n",
       "      <td>412023.0</td>\n",
       "      <td>445007.0</td>\n",
       "      <td>542653.0</td>\n",
       "      <td>483003.0</td>\n",
       "      <td>473944.0</td>\n",
       "      <td>55000.0</td>\n",
       "      <td>40000.0</td>\n",
       "      <td>38000.0</td>\n",
       "      <td>20239.0</td>\n",
       "      <td>13750.0</td>\n",
       "      <td>13770.0</td>\n",
       "      <td>0</td>\n",
       "      <td>1</td>\n",
       "      <td>0</td>\n",
       "      <td>0</td>\n",
       "      <td>1</td>\n",
       "      <td>0</td>\n",
       "    </tr>\n",
       "  </tbody>\n",
       "</table>\n",
       "</div>"
      ],
      "text/plain": [
       "    limit_bal  age  pay_0  pay_2  pay_3  pay_4  pay_5  pay_6  bill_amt1  \\\n",
       "ID                                                                        \n",
       "3     90000.0   34      0      0      0      0      0      0    29239.0   \n",
       "4     50000.0   37      0      0      0      0      0      0    46990.0   \n",
       "5     50000.0   57      0      0      0      0      0      0     8617.0   \n",
       "6     50000.0   37      0      0      0      0      0      0    64400.0   \n",
       "7    500000.0   29      0      0      0      0      0      0   367965.0   \n",
       "\n",
       "    bill_amt2  bill_amt3  bill_amt4  bill_amt5  bill_amt6  pay_amt1  pay_amt2  \\\n",
       "ID                                                                              \n",
       "3     14027.0    13559.0    14331.0    14948.0    15549.0    1518.0    1500.0   \n",
       "4     48233.0    49291.0    28314.0    28959.0    29547.0    2000.0    2019.0   \n",
       "5      5670.0    35835.0    20940.0    19146.0    19131.0    2000.0   36681.0   \n",
       "6     57069.0    57608.0    19394.0    19619.0    20024.0    2500.0    1815.0   \n",
       "7    412023.0   445007.0   542653.0   483003.0   473944.0   55000.0   40000.0   \n",
       "\n",
       "    pay_amt3  pay_amt4  pay_amt5  pay_amt6  default  grad_school  university  \\\n",
       "ID                                                                             \n",
       "3     1000.0    1000.0    1000.0    5000.0        0            0           1   \n",
       "4     1200.0    1100.0    1069.0    1000.0        0            0           1   \n",
       "5    10000.0    9000.0     689.0     679.0        0            0           1   \n",
       "6      657.0    1000.0    1000.0     800.0        0            1           0   \n",
       "7    38000.0   20239.0   13750.0   13770.0        0            1           0   \n",
       "\n",
       "    high_school  male  married  \n",
       "ID                              \n",
       "3             0     0        0  \n",
       "4             0     0        1  \n",
       "5             0     1        1  \n",
       "6             0     1        0  \n",
       "7             0     1        0  "
      ]
     },
     "execution_count": 43,
     "metadata": {},
     "output_type": "execute_result"
    }
   ],
   "source": [
    "pay = default[default['default']==0]\n",
    "pay.head()"
   ]
  },
  {
   "cell_type": "code",
   "execution_count": null,
   "id": "ed48f703",
   "metadata": {},
   "outputs": [],
   "source": []
  }
 ],
 "metadata": {
  "kernelspec": {
   "display_name": "Python 3 (ipykernel)",
   "language": "python",
   "name": "python3"
  },
  "language_info": {
   "codemirror_mode": {
    "name": "ipython",
    "version": 3
   },
   "file_extension": ".py",
   "mimetype": "text/x-python",
   "name": "python",
   "nbconvert_exporter": "python",
   "pygments_lexer": "ipython3",
   "version": "3.10.6"
  }
 },
 "nbformat": 4,
 "nbformat_minor": 5
}
